{
 "cells": [
  {
   "cell_type": "code",
   "execution_count": 53,
   "metadata": {},
   "outputs": [],
   "source": [
    "import sklearn\n",
    "import io\n",
    "import pandas as pd\n",
    "import numpy as np\n",
    "from sklearn.decomposition import PCA, TruncatedSVD\n",
    "from sklearn.preprocessing import LabelEncoder\n",
    "from sklearn.preprocessing import OneHotEncoder\n",
    "from sklearn.feature_extraction.text import TfidfVectorizer, CountVectorizer\n",
    "import re\n",
    "from sklearn import linear_model\n",
    "from sklearn.svm import SVR\n",
    "import matplotlib.pyplot as plt\n",
    "import xgboost as xgb\n",
    "import lightgbm as lgb\n",
    "from catboost import CatBoostRegressor,Pool,cv\n",
    "from sklearn.ensemble import RandomForestRegressor\n",
    "import math\n",
    "from sklearn.utils import shuffle\n",
    "from datetime import datetime\n"
   ]
  },
  {
   "cell_type": "markdown",
   "metadata": {},
   "source": [
    "### Read data"
   ]
  },
  {
   "cell_type": "code",
   "execution_count": 2,
   "metadata": {},
   "outputs": [
    {
     "name": "stderr",
     "output_type": "stream",
     "text": [
      "C:\\Users\\xu47s\\Anaconda3\\lib\\site-packages\\IPython\\core\\interactiveshell.py:3063: DtypeWarning: Columns (43,61,62) have mixed types.Specify dtype option on import or set low_memory=False.\n",
      "  interactivity=interactivity, compiler=compiler, result=result)\n"
     ]
    },
    {
     "name": "stdout",
     "output_type": "stream",
     "text": [
      "(59881, 96)\n"
     ]
    }
   ],
   "source": [
    "df = pd.read_csv('listings.csv') \n",
    "df = shuffle(df,random_state=0)\n",
    "print(df.shape)"
   ]
  },
  {
   "cell_type": "code",
   "execution_count": 3,
   "metadata": {},
   "outputs": [
    {
     "name": "stdout",
     "output_type": "stream",
     "text": [
      "selected feature number ： 62\n",
      "non-text feature number :  50\n",
      "continuous feature number :  30\n",
      "text feature number :  12\n"
     ]
    }
   ],
   "source": [
    "one_hot_col_names = ['host_response_time','host_is_superhost','host_has_profile_pic','host_identity_verified',\n",
    "           'neighbourhood_cleansed', 'is_location_exact', 'property_type', 'room_type', 'bed_type', 'has_availability', 'requires_license', 'instant_bookable', \n",
    "           'is_business_travel_ready', 'cancellation_policy','require_guest_profile_picture', 'require_guest_phone_verification','calendar_updated']\n",
    "features = ['host_listings_count', 'host_total_listings_count', 'latitude', 'longitude', \n",
    "      'accommodates', 'bathrooms', 'bedrooms', 'beds', 'square_feet',     \n",
    "      'guests_included', 'minimum_nights', 'maximum_nights', 'availability_30', 'availability_60', \n",
    "      'availability_90', 'availability_365', 'number_of_reviews', 'review_scores_rating', 'review_scores_accuracy', \n",
    "      'review_scores_cleanliness', 'review_scores_checkin', 'review_scores_communication', 'review_scores_location', \n",
    "      'review_scores_value', 'calculated_host_listings_count', 'reviews_per_month']\n",
    " \n",
    "price_features = ['security_deposit', 'cleaning_fee', 'extra_people','price'] \n",
    "\n",
    "text_cols = ['name', 'summary', 'space', 'description', 'neighborhood_overview', 'notes', 'transit', 'access', \n",
    "             'interaction', 'house_rules', 'host_name', 'host_about']\n",
    "\n",
    "date_cols = ['host_since', 'first_review', 'last_review']\n",
    "\n",
    "print(\"selected feature number ：\",len(one_hot_col_names)+len(features)+len(price_features)+len(date_cols)+len(text_cols))\n",
    "print(\"non-text feature number : \",len(one_hot_col_names)+len(features)+len(price_features)+len(date_cols))\n",
    "print(\"continuous feature number : \",len(features)+len(price_features))\n",
    "print(\"text feature number : \",len(text_cols))"
   ]
  },
  {
   "cell_type": "markdown",
   "metadata": {},
   "source": [
    "# Data Clean"
   ]
  },
  {
   "cell_type": "code",
   "execution_count": 4,
   "metadata": {},
   "outputs": [],
   "source": [
    "def clean_date(cols):\n",
    "    num_data = cols.shape[0]\n",
    "    #print(num_data)\n",
    "    dates = pd.to_datetime(cols)\n",
    "    min_date = pd.to_datetime(date.today())\n",
    "    for col in dates:\n",
    "        if not isinstance(col, float):\n",
    "            min_date = min(min_date, col)\n",
    "    mean_date = dates.mean()\n",
    "    \n",
    "    dif = pd.to_timedelta([mean_date - min_date]).astype('timedelta64[h]')[0]\n",
    "    arr = np.zeros((num_data, 1))\n",
    "    for i, col in enumerate(dates):\n",
    "        arr[i] = pd.to_timedelta([col - min_date]).astype('timedelta64[h]')[0]\n",
    "        if np.isnan(arr[i]):\n",
    "            arr[i] = dif\n",
    "\n",
    "    # print (np.min(arr), np.max(arr))\n",
    "    return arr"
   ]
  },
  {
   "cell_type": "code",
   "execution_count": 5,
   "metadata": {},
   "outputs": [],
   "source": [
    "def clean_host_response_rate(host_response_rate, num_data):\n",
    "    total = 0\n",
    "    count = 0\n",
    "    for col in host_response_rate:\n",
    "        if not isinstance(col, float):\n",
    "            total += float(col.strip('%'))\n",
    "            count += 1\n",
    "\n",
    "    arr = np.zeros(num_data)\n",
    "    mean = total / count\n",
    "    print (host_response_rate.name, 'mean is ', mean)\n",
    "    for i, col in enumerate(host_response_rate):\n",
    "        if not isinstance(col, float):\n",
    "            arr[i] += float(col.strip('%'))\n",
    "        else:\n",
    "            assert(math.isnan(col))\n",
    "            arr[i] = mean\n",
    "    return arr"
   ]
  },
  {
   "cell_type": "code",
   "execution_count": 6,
   "metadata": {},
   "outputs": [],
   "source": [
    "def clean_price(price, num_data):\n",
    "    '''\n",
    "    total = 0\n",
    "    count = 0\n",
    "    all_count=0\n",
    "    for col in price:\n",
    "        all_count+=1\n",
    "        if not isinstance(col, float):\n",
    "            total += float(col.strip('$').replace(',', ''))\n",
    "            count += 1\n",
    "    \n",
    "    \n",
    "    mean = total / count\n",
    "    print (price.name, 'mean is ', mean)\n",
    "    print(all_count-count)\n",
    "    '''\n",
    "    arr = np.zeros(num_data)\n",
    "    for i, col in enumerate(price):\n",
    "        if not isinstance(col, float):\n",
    "            arr[i] += float(col.strip('$').replace(',', ''))\n",
    "        else:\n",
    "            assert(math.isnan(col))\n",
    "            arr[i] = 0\n",
    "    return arr"
   ]
  },
  {
   "cell_type": "code",
   "execution_count": 7,
   "metadata": {},
   "outputs": [],
   "source": [
    "def check_nan(cols):\n",
    "    for col in cols:\n",
    "        #print (col)\n",
    "        if np.isnan(col):\n",
    "            return True\n",
    "    return False"
   ]
  },
  {
   "cell_type": "code",
   "execution_count": 8,
   "metadata": {},
   "outputs": [],
   "source": [
    "def to_np_array_fill_NA_mean(cols):\n",
    "    print (cols.name, 'mean is ', np.nanmean(np.array(cols)))\n",
    "    return np.array(cols.fillna(np.nanmean(np.array(cols))))"
   ]
  },
  {
   "cell_type": "code",
   "execution_count": 9,
   "metadata": {},
   "outputs": [
    {
     "name": "stdout",
     "output_type": "stream",
     "text": [
      "1: (31, 59881)\n",
      "host_response_rate mean is  91.81647347518647\n",
      "2: [100.          60.          91.81647348 ... 100.         100.\n",
      " 100.        ] (59881,) 59881\n",
      "[0. 0. 0. ... 0. 0. 0.]\n",
      "num_data 59881\n",
      "host_listings_count mean is  8.456983949359477\n",
      "host_total_listings_count mean is  8.456983949359477\n",
      "bathrooms mean is  1.108602959618761\n",
      "bedrooms mean is  1.087790279705081\n",
      "beds mean is  1.671634284947949\n",
      "square_feet mean is  383.66568483063327\n",
      "review_scores_rating mean is  92.82449394024498\n",
      "review_scores_accuracy mean is  9.574485115957078\n",
      "review_scores_cleanliness mean is  9.203351713698778\n",
      "review_scores_checkin mean is  9.688236058191894\n",
      "review_scores_communication mean is  9.719251568245728\n",
      "review_scores_location mean is  9.59474379234949\n",
      "review_scores_value mean is  9.273250779355733\n",
      "reviews_per_month mean is  1.163733144822638\n",
      "(59881, 30)\n",
      "label: 59881 [50. 70. 69. ... 50. 78. 30.]\n"
     ]
    }
   ],
   "source": [
    "num_data = df.shape[0]\n",
    "# if check_nan(df['host_response_rate']):\n",
    "'''\n",
    "features = ['host_listings_count', 'host_total_listings_count', 'latitude', 'longitude', \n",
    "      'accommodates', 'bathrooms', 'bedrooms', 'beds', 'square_feet',     \n",
    "      'guests_included', 'minimum_nights', 'maximum_nights', 'availability_30', 'availability_60', \n",
    "      'availability_90', 'availability_365', 'number_of_reviews', 'review_scores_rating', 'review_scores_accuracy', \n",
    "      'review_scores_cleanliness', 'review_scores_checkin', 'review_scores_communication', 'review_scores_location', \n",
    "      'review_scores_value', 'calculated_host_listings_count', 'reviews_per_month']\n",
    "\n",
    "'''\n",
    "          \n",
    "#price_features = ['security_deposit', 'cleaning_fee', 'extra_people','price'] \n",
    "arr = np.zeros((len(features) + len(price_features) + 1, num_data))\n",
    "# check_nan(df['extra_people'])\n",
    "print(\"1:\",arr.shape)\n",
    "host_response_rate = clean_host_response_rate(df['host_response_rate'], num_data)\n",
    "print(\"2:\",host_response_rate,host_response_rate.shape,len(host_response_rate))\n",
    "print(arr[0])\n",
    "arr[0] = host_response_rate\n",
    "print(\"num_data\", num_data)\n",
    "i = 0\n",
    "for feature in features:\n",
    "    i += 1\n",
    "    if check_nan(df[feature]):\n",
    "        arr[i] = to_np_array_fill_NA_mean(df[feature])\n",
    "    else:\n",
    "        arr[i] = np.array(df[feature])\n",
    "    \n",
    "\n",
    "for feature in price_features:\n",
    "    i += 1\n",
    "    arr[i] = clean_price(df[feature], num_data)\n",
    "\n",
    "label = arr[-1]\n",
    "arr = arr[:-1].T\n",
    "#arr = arr.T\n",
    "print(arr.shape)\n",
    "print(\"label:\",len(label),label)"
   ]
  },
  {
   "cell_type": "markdown",
   "metadata": {},
   "source": [
    "# Categorical features (one-hot)"
   ]
  },
  {
   "cell_type": "code",
   "execution_count": 15,
   "metadata": {},
   "outputs": [],
   "source": [
    "def one_hot(arr):\n",
    "    label_encoder = LabelEncoder()\n",
    "    integer_encoded = label_encoder.fit_transform(arr)\n",
    "    onehot_encoder = OneHotEncoder(sparse=False)\n",
    "    integer_encoded = integer_encoded.reshape(len(integer_encoded), 1)\n",
    "    onehot_encoded = onehot_encoder.fit_transform(integer_encoded)\n",
    "    return onehot_encoded"
   ]
  },
  {
   "cell_type": "code",
   "execution_count": 16,
   "metadata": {},
   "outputs": [],
   "source": [
    "# use one-hot on host_verification\n",
    "def host_verification(cols):\n",
    "    possible_words = {}\n",
    "    i = 0\n",
    "    for col in cols:\n",
    "        words = col.split()\n",
    "        for w in words:\n",
    "            wr = re.sub(r'\\W+', '', w)\n",
    "            if wr != '' and wr not in possible_words:\n",
    "                possible_words[wr] = i\n",
    "                i += 1\n",
    "    print (possible_words)\n",
    "    l = len(possible_words)\n",
    "\n",
    "    new_cols = np.zeros((cols.shape[0], l))\n",
    "    for i, col in enumerate(cols):\n",
    "        words = col.split()\n",
    "        arr = np.zeros(l)\n",
    "        for w in words:\n",
    "            wr = re.sub(r'\\W+', '', w)\n",
    "            if wr != '':\n",
    "                arr[possible_words[wr]] = 1\n",
    "        new_cols[i] = arr\n",
    "    return new_cols"
   ]
  },
  {
   "cell_type": "code",
   "execution_count": 17,
   "metadata": {},
   "outputs": [],
   "source": [
    "# use one-hot on amenities\n",
    "def amenities(cols):\n",
    "    dic = {}\n",
    "    i = 0\n",
    "    for col in cols:\n",
    "        arr = col.split(',')\n",
    "        for a in arr:\n",
    "            ar = re.sub(r'\\W+', '', a)\n",
    "            if len(ar) > 0:\n",
    "                if ar not in dic:\n",
    "                    dic[ar] = i\n",
    "                    i += 1\n",
    "    \n",
    "    l = len(dic)\n",
    "    new_cols = np.zeros((cols.shape[0], l))\n",
    "    for i, col in enumerate(cols):\n",
    "        words = col.split(',')\n",
    "        arr = np.zeros(l)\n",
    "        for w in words:\n",
    "            wr = re.sub(r'\\W+', '', w)\n",
    "            if wr != '':\n",
    "                arr[dic[wr]] = 1\n",
    "        new_cols[i] = arr\n",
    "    return new_cols"
   ]
  },
  {
   "cell_type": "markdown",
   "metadata": {},
   "source": [
    "# using one-hot"
   ]
  },
  {
   "cell_type": "code",
   "execution_count": 21,
   "metadata": {},
   "outputs": [
    {
     "name": "stdout",
     "output_type": "stream",
     "text": [
      "{'email': 0, 'phone': 1, 'reviews': 2, 'jumio': 3, 'offline_government_id': 4, 'government_id': 5, 'work_email': 6, 'facebook': 7, 'sent_id': 8, 'selfie': 9, 'identity_manual': 10, 'google': 11, 'manual_online': 12, 'manual_offline': 13, 'zhima_selfie': 14, 'kba': 15, 'None': 16, 'weibo': 17, 'photographer': 18, 'sesame': 19, 'sesame_offline': 20}\n"
     ]
    }
   ],
   "source": [
    "one_hot_col_names = ['host_response_time','host_is_superhost','host_has_profile_pic','host_identity_verified',\n",
    "           'neighbourhood_cleansed', 'is_location_exact', 'property_type', 'room_type', 'bed_type', 'has_availability', 'requires_license', 'instant_bookable', \n",
    "           'is_business_travel_ready', 'cancellation_policy','require_guest_profile_picture', 'require_guest_phone_verification','calendar_updated']\n",
    "\n",
    "one_hot_dict = {}\n",
    "for i in one_hot_col_names:    \n",
    "    one_hot_dict[i] = one_hot(np.array(df[i].fillna(\"\"), dtype=str))    #apply one-hot\n",
    "#     one_hot_dict[i] = np.array(df[i].fillna(\"\"), dtype=str)\n",
    "# print(one_hot)\n",
    "one_hot_dict['host_verifications'] = host_verification(df['host_verifications'])\n",
    "one_hot_dict['amenities'] = amenities(df['amenities'])\n",
    "# one_hot_dict['host_verifications'] = df['host_verifications']\n",
    "# one_hot_dict['amenities'] = df['amenities']\n"
   ]
  },
  {
   "cell_type": "code",
   "execution_count": null,
   "metadata": {},
   "outputs": [],
   "source": [
    "print(df['host_verifications'])\n",
    "print(df['amenities'])"
   ]
  },
  {
   "cell_type": "code",
   "execution_count": null,
   "metadata": {},
   "outputs": [],
   "source": [
    "print(one_hot_dict['host_verifications'])\n",
    "print(one_hot_dict['amenities'])"
   ]
  },
  {
   "cell_type": "code",
   "execution_count": 22,
   "metadata": {},
   "outputs": [
    {
     "name": "stdout",
     "output_type": "stream",
     "text": [
      "(59881, 351)\n"
     ]
    }
   ],
   "source": [
    "ont_hot_list = []\n",
    "# num = 0\n",
    "for i in one_hot_dict.keys():\n",
    "#     num += 1\n",
    "    if 1<one_hot_dict[i].shape[1]<400:\n",
    "        ont_hot_list.append(one_hot_dict[i])\n",
    "#         print(i,one_hot_dict[i].shape[1])\n",
    "# print(np.array(ont_hot_list).shape)\n",
    "\n",
    "onehot_features = np.concatenate(ont_hot_list, axis=1)\n",
    "# onehot_features = np.array(ont_hot_list).T\n",
    "print(onehot_features.shape)\n",
    "# print(len(one_hot_dict))"
   ]
  },
  {
   "cell_type": "markdown",
   "metadata": {},
   "source": [
    "# Date features"
   ]
  },
  {
   "cell_type": "code",
   "execution_count": 10,
   "metadata": {},
   "outputs": [
    {
     "data": {
      "text/plain": [
       "(59881, 3)"
      ]
     },
     "execution_count": 10,
     "metadata": {},
     "output_type": "execute_result"
    }
   ],
   "source": [
    "date_features = []\n",
    "for i in date_cols:\n",
    "    date_features.append(clean_date(df[i]))\n",
    "\n",
    "date_features = np.concatenate(date_features, axis=1)\n",
    "date_features.shape"
   ]
  },
  {
   "cell_type": "markdown",
   "metadata": {},
   "source": [
    "# Text features"
   ]
  },
  {
   "cell_type": "code",
   "execution_count": 11,
   "metadata": {},
   "outputs": [
    {
     "name": "stdout",
     "output_type": "stream",
     "text": [
      "(59870, 300)\n"
     ]
    }
   ],
   "source": [
    "\n",
    "#tf-idf\n",
    "count_vect = TfidfVectorizer(analyzer='word', token_pattern=r'\\w{1,}', ngram_range=(1,2))\n",
    "\n",
    "text_X_list = []\n",
    "#text_cols = ['name', 'summary', 'space', 'description', 'neighborhood_overview', 'notes', 'transit', 'access', 'interaction', 'house_rules', 'host_name', 'host_about']\n",
    "\n",
    "mask = label > 0\n",
    "x = count_vect.fit_transform(df['description'][mask].values.astype('U'))\n",
    "svd = TruncatedSVD(n_components=300)#x.shape[1]//100) #PCA(n_components=10)\n",
    "text_X_list = svd.fit_transform(x)\n",
    "text_features_unfiltered = np.array(text_X_list)\n",
    "print(text_features_unfiltered.shape)\n"
   ]
  },
  {
   "cell_type": "markdown",
   "metadata": {},
   "source": [
    "# LightGBM"
   ]
  },
  {
   "cell_type": "code",
   "execution_count": 23,
   "metadata": {},
   "outputs": [
    {
     "name": "stdout",
     "output_type": "stream",
     "text": [
      "[5.01063529 4.09434456 5.27299956 ... 3.91202301 4.35670883 3.40119738]\n",
      "(41909, 681)\n",
      "(11974, 681)\n",
      "(5987, 681)\n"
     ]
    }
   ],
   "source": [
    "mask = label > 0 \n",
    "import lightgbm as lgb\n",
    "from sklearn import metrics\n",
    "arr_filtered = (arr[mask])\n",
    "# print(arr_filtered.shape)  #(59870,30)\n",
    "one_hot_filtered = onehot_features[mask]\n",
    "#date_filtered = date_features[mask]   \n",
    "\n",
    "num_data = arr_filtered.shape[0]\n",
    "train_num = int(num_data * 0.7)\n",
    "dev_num = int(num_data * 0.9)\n",
    "test_num = num_data - train_num\n",
    "\n",
    "label_filtered =np.log(label[mask])\n",
    "\n",
    "train_label = label_filtered[:train_num]\n",
    "dev_label = label_filtered[train_num:dev_num]\n",
    "test_label = label_filtered[dev_num:]\n",
    "\n",
    "print(test_label)\n",
    "need_normalize = True\n",
    "#arr\n",
    "train_features_arr = arr_filtered[:train_num]\n",
    "dev_features_arr = arr_filtered[train_num:dev_num]\n",
    "test_features_arr = arr_filtered[dev_num:]\n",
    "if need_normalize:\n",
    "    mean = np.mean(train_features_arr,axis=0)\n",
    "    std = np.std(train_features_arr,axis=0)\n",
    "    train_features_arr = (train_features_arr - mean) / std\n",
    "    dev_features_arr = (dev_features_arr - mean) / std\n",
    "    test_features_arr =  (test_features_arr- mean) / std\n",
    "\n",
    "#1hot\n",
    "train_features_1h = one_hot_filtered[:train_num]\n",
    "dev_features_1h = one_hot_filtered[train_num:dev_num]\n",
    "test_features_1h = one_hot_filtered[dev_num:]\n",
    "\n",
    "#txt \n",
    "train_features_txt = text_features_unfiltered[:train_num]\n",
    "dev_features_txt = text_features_unfiltered[train_num:dev_num]\n",
    "test_features_txt = text_features_unfiltered[dev_num:]\n",
    "if need_normalize:\n",
    "    mean = np.mean(train_features_txt,axis=0)\n",
    "    std = np.std(train_features_txt,axis=0)\n",
    "    train_features_txt = (train_features_txt - mean) / std\n",
    "    dev_features_txt = (dev_features_txt - mean) / std\n",
    "    test_features_txt =  (test_features_txt- mean) / std\n",
    "\n",
    "# non-text features\n",
    "train_nontext_feature = np.concatenate([train_features_arr, train_features_1h], axis=1)\n",
    "\n",
    "val_nontext_feature = np.concatenate([dev_features_arr, dev_features_1h], axis=1)\n",
    "\n",
    "test_nontext_feature = np.concatenate([test_features_arr, test_features_1h], axis=1)\n",
    "\n",
    "# all features\n",
    "train_features = np.concatenate([train_nontext_feature, train_features_txt],axis=1)\n",
    "\n",
    "dev_features = np.concatenate([val_nontext_feature, dev_features_txt],axis=1)\n",
    "\n",
    "test_features = np.concatenate([test_nontext_feature, test_features_txt],axis=1)\n",
    "\n",
    "# starttime = datetime.datetime.now()\n",
    "\n",
    "\n",
    "\n",
    "print(train_features.shape)\n",
    "print(dev_features.shape)\n",
    "print(test_features.shape)\n"
   ]
  },
  {
   "cell_type": "code",
   "execution_count": 54,
   "metadata": {},
   "outputs": [
    {
     "name": "stdout",
     "output_type": "stream",
     "text": [
      "0.04211639266513097 0.09450858809297122 0.0958293107840789 0.8940451960509108 0.7613695421526888 0.761150209259636\n",
      "train score :  0.8940451960509108\n",
      "test score :  0.761150209259636\n",
      "train mse :  0.04211639266513097\n",
      "test mse :  0.0958293107840789\n",
      "Run time :  24\n"
     ]
    },
    {
     "data": {
      "text/plain": [
       "Text(0, 0.5, 'Predicted label')"
      ]
     },
     "execution_count": 54,
     "metadata": {},
     "output_type": "execute_result"
    },
    {
     "data": {
      "image/png": "[encoded data removed]",
      "text/plain": [
       "<Figure size 432x288 with 1 Axes>"
      ]
     },
     "metadata": {
      "needs_background": "light"
     },
     "output_type": "display_data"
    }
   ],
   "source": [
    "model=lgb.LGBMRegressor(objective='regression',num_leaves=50,\n",
    "                      learning_rate=0.07, n_estimators=464, max_depth=6)\n",
    "starttime  = datetime.now()\n",
    "model.fit(train_features,train_label)\n",
    "endtime  = datetime.now()\n",
    "train_predict = model.predict(train_features)\n",
    "dev_predict = model.predict(dev_features)\n",
    "test_predict = model.predict(test_features)\n",
    "\n",
    "mse_train = sklearn.metrics.mean_squared_error(train_label, train_predict)\n",
    "mse_dev = sklearn.metrics.mean_squared_error(dev_label, dev_predict)\n",
    "mse_test = sklearn.metrics.mean_squared_error(test_label, test_predict)\n",
    "\n",
    "r2_train = sklearn.metrics.r2_score(train_label, train_predict)\n",
    "r2_dev = sklearn.metrics.r2_score(dev_label, dev_predict)\n",
    "r2_test = sklearn.metrics.r2_score(test_label, test_predict)\n",
    "\n",
    "print(mse_train,mse_dev,mse_test,r2_train,r2_dev,r2_test)\n",
    "\n",
    "print('train score : ',model.score(train_features, train_label))\n",
    "print('test score : ',model.score(test_features, test_label))\n",
    "print('train mse : ', mse_train)\n",
    "print('test mse : ', mse_test)\n",
    "print(\"Run time : \",(endtime - starttime).seconds)\n",
    "plt.scatter(dev_label, dev_predict)\n",
    "plt.xlabel('Ground-truth label')\n",
    "plt.ylabel('Predicted label')"
   ]
  },
  {
   "cell_type": "code",
   "execution_count": null,
   "metadata": {},
   "outputs": [],
   "source": [
    "\n"
   ]
  },
  {
   "cell_type": "code",
   "execution_count": null,
   "metadata": {},
   "outputs": [],
   "source": []
  }
 ],
 "metadata": {
  "kernelspec": {
   "display_name": "Python 3",
   "language": "python",
   "name": "python3"
  },
  "language_info": {
   "codemirror_mode": {
    "name": "ipython",
    "version": 3
   },
   "file_extension": ".py",
   "mimetype": "text/x-python",
   "name": "python",
   "nbconvert_exporter": "python",
   "pygments_lexer": "ipython3",
   "version": "3.7.3"
  }
 },
 "nbformat": 4,
 "nbformat_minor": 2
}
